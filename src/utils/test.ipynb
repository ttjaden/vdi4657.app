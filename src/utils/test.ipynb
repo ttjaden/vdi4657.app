{
 "cells": [
  {
   "cell_type": "code",
   "execution_count": 1,
   "metadata": {},
   "outputs": [],
   "source": [
    "import economy as eco"
   ]
  },
  {
   "cell_type": "code",
   "execution_count": 2,
   "metadata": {},
   "outputs": [],
   "source": [
    "xdata = [5,25]\n",
    "ydata = [2000,750]"
   ]
  },
  {
   "cell_type": "code",
   "execution_count": 3,
   "metadata": {},
   "outputs": [
    {
     "name": "stderr",
     "output_type": "stream",
     "text": [
      "c:\\Users\\t.tjaden\\Anaconda3\\lib\\site-packages\\scipy\\optimize\\minpack.py:833: OptimizeWarning: Covariance of the parameters could not be estimated\n",
      "  warnings.warn('Covariance of the parameters could not be estimated',\n"
     ]
    }
   ],
   "source": [
    "I_0, exp = eco.invest_params(xdata,ydata)"
   ]
  },
  {
   "cell_type": "code",
   "execution_count": 4,
   "metadata": {},
   "outputs": [
    {
     "data": {
      "text/plain": [
       "1310.917159260464"
      ]
     },
     "execution_count": 4,
     "metadata": {},
     "output_type": "execute_result"
    }
   ],
   "source": [
    "i, I = eco.invest_costs(10, I_0,exp)\n",
    "i"
   ]
  },
  {
   "cell_type": "code",
   "execution_count": 40,
   "metadata": {},
   "outputs": [],
   "source": [
    "invest_costs=4000\n",
    "feedin0=7000\n",
    "feedin=6000\n",
    "supply0=3000\n",
    "supply=2000\n",
    "tariff_feedin=0.07\n",
    "tariff_supply=0.40\n",
    "years=20\n",
    "lifetime=15\n",
    "interest_rate=0.015"
   ]
  },
  {
   "cell_type": "code",
   "execution_count": 41,
   "metadata": {},
   "outputs": [
    {
     "data": {
      "text/plain": [
       "[-3670.0,\n",
       " 330.0,\n",
       " 330.0,\n",
       " 330.0,\n",
       " 330.0,\n",
       " 330.0,\n",
       " 330.0,\n",
       " 330.0,\n",
       " 330.0,\n",
       " 330.0,\n",
       " 330.0,\n",
       " 330.0,\n",
       " 330.0,\n",
       " 330.0,\n",
       " 330.0,\n",
       " -670.0,\n",
       " 330.0,\n",
       " 330.0,\n",
       " 330.0,\n",
       " 330.0]"
      ]
     },
     "execution_count": 41,
     "metadata": {},
     "output_type": "execute_result"
    }
   ],
   "source": [
    "cashflow = eco.cash_flow(invest_costs,\n",
    "                        feedin0,\n",
    "                        feedin,\n",
    "                        supply0,\n",
    "                        supply,\n",
    "                        tariff_feedin,\n",
    "                        tariff_supply,\n",
    "                        years,\n",
    "                        lifetime,)\n",
    "cashflow"
   ]
  },
  {
   "cell_type": "code",
   "execution_count": 42,
   "metadata": {},
   "outputs": [
    {
     "data": {
      "text/plain": [
       "950.7840561533858"
      ]
     },
     "execution_count": 42,
     "metadata": {},
     "output_type": "execute_result"
    }
   ],
   "source": [
    "npv = eco.net_present_value(cashflow, interest_rate)\n",
    "npv"
   ]
  },
  {
   "cell_type": "code",
   "execution_count": 43,
   "metadata": {},
   "outputs": [
    {
     "data": {
      "text/plain": [
       "0.04386859414723032"
      ]
     },
     "execution_count": 43,
     "metadata": {},
     "output_type": "execute_result"
    }
   ],
   "source": [
    "irr = eco.internal_rate_of_return(cashflow)\n",
    "irr"
   ]
  },
  {
   "cell_type": "code",
   "execution_count": 44,
   "metadata": {},
   "outputs": [
    {
     "data": {
      "text/plain": [
       "13"
      ]
     },
     "execution_count": 44,
     "metadata": {},
     "output_type": "execute_result"
    }
   ],
   "source": [
    "t_a = eco.amortisation(cashflow)\n",
    "t_a\n"
   ]
  },
  {
   "cell_type": "code",
   "execution_count": 45,
   "metadata": {},
   "outputs": [
    {
     "data": {
      "text/plain": [
       "0.2965361226891569"
      ]
     },
     "execution_count": 45,
     "metadata": {},
     "output_type": "execute_result"
    }
   ],
   "source": [
    "LCOS = eco.levelized_cost_of_storage(invest_costs,\n",
    "                              feedin0,\n",
    "                              feedin,\n",
    "                              supply0,\n",
    "                              supply,\n",
    "                              tariff_feedin,\n",
    "                              years,\n",
    "                              lifetime,\n",
    "                              interest_rate)\n",
    "LCOS"
   ]
  },
  {
   "cell_type": "code",
   "execution_count": null,
   "metadata": {},
   "outputs": [],
   "source": []
  },
  {
   "cell_type": "code",
   "execution_count": null,
   "metadata": {},
   "outputs": [],
   "source": []
  }
 ],
 "metadata": {
  "kernelspec": {
   "display_name": "base",
   "language": "python",
   "name": "python3"
  },
  "language_info": {
   "codemirror_mode": {
    "name": "ipython",
    "version": 3
   },
   "file_extension": ".py",
   "mimetype": "text/x-python",
   "name": "python",
   "nbconvert_exporter": "python",
   "pygments_lexer": "ipython3",
   "version": "3.9.12"
  },
  "orig_nbformat": 4,
  "vscode": {
   "interpreter": {
    "hash": "5f8f821c4db55f53a1bd9d9e03cc44b7bae96223592619445f5c3df17e4728e3"
   }
  }
 },
 "nbformat": 4,
 "nbformat_minor": 2
}
