{
 "cells": [
  {
   "cell_type": "code",
   "execution_count": 1,
   "metadata": {},
   "outputs": [],
   "source": [
    "import economy as eco"
   ]
  },
  {
   "cell_type": "code",
   "execution_count": null,
   "metadata": {},
   "outputs": [],
   "source": [
    "xdata = [1,10,100]\n",
    "ydata = [1750,1375,875]"
   ]
  },
  {
   "cell_type": "code",
   "execution_count": null,
   "metadata": {},
   "outputs": [],
   "source": [
    "I_0, exp = eco.invest_params(xdata,ydata)"
   ]
  },
  {
   "cell_type": "code",
   "execution_count": 22,
   "metadata": {},
   "outputs": [],
   "source": [
    "invest_costs=3000\n",
    "feedin0=7000\n",
    "feedin=6000\n",
    "supply0=3000\n",
    "supply=2000\n",
    "tariff_feedin=0.05\n",
    "tariff_supply=0.4\n",
    "years=20\n",
    "lifetime=15\n",
    "interest_rate=0.015"
   ]
  },
  {
   "cell_type": "code",
   "execution_count": 23,
   "metadata": {},
   "outputs": [
    {
     "data": {
      "text/plain": [
       "[-2650.0,\n",
       " 350.0,\n",
       " 350.0,\n",
       " 350.0,\n",
       " 350.0,\n",
       " 350.0,\n",
       " 350.0,\n",
       " 350.0,\n",
       " 350.0,\n",
       " 350.0,\n",
       " 350.0,\n",
       " 350.0,\n",
       " 350.0,\n",
       " 350.0,\n",
       " 350.0,\n",
       " -400.0,\n",
       " 350.0,\n",
       " 350.0,\n",
       " 350.0,\n",
       " 350.0]"
      ]
     },
     "execution_count": 23,
     "metadata": {},
     "output_type": "execute_result"
    }
   ],
   "source": [
    "cashflow = eco.cash_flow(invest_costs,\n",
    "                        feedin0,\n",
    "                        feedin,\n",
    "                        supply0,\n",
    "                        supply,\n",
    "                        tariff_feedin,\n",
    "                        tariff_supply,\n",
    "                        years,\n",
    "                        lifetime,)\n",
    "cashflow"
   ]
  },
  {
   "cell_type": "code",
   "execution_count": 24,
   "metadata": {},
   "outputs": [
    {
     "data": {
      "text/plain": [
       "2499.2702997180018"
      ]
     },
     "execution_count": 24,
     "metadata": {},
     "output_type": "execute_result"
    }
   ],
   "source": [
    "npv = eco.net_present_value(cashflow, interest_rate)\n",
    "npv"
   ]
  },
  {
   "cell_type": "code",
   "execution_count": 25,
   "metadata": {},
   "outputs": [
    {
     "data": {
      "text/plain": [
       "0.10597110357678119"
      ]
     },
     "execution_count": 25,
     "metadata": {},
     "output_type": "execute_result"
    }
   ],
   "source": [
    "irr = eco.internal_rate_of_return(cashflow)\n",
    "irr"
   ]
  },
  {
   "cell_type": "code",
   "execution_count": null,
   "metadata": {},
   "outputs": [],
   "source": []
  }
 ],
 "metadata": {
  "kernelspec": {
   "display_name": "base",
   "language": "python",
   "name": "python3"
  },
  "language_info": {
   "codemirror_mode": {
    "name": "ipython",
    "version": 3
   },
   "file_extension": ".py",
   "mimetype": "text/x-python",
   "name": "python",
   "nbconvert_exporter": "python",
   "pygments_lexer": "ipython3",
   "version": "3.9.12"
  },
  "orig_nbformat": 4,
  "vscode": {
   "interpreter": {
    "hash": "5f8f821c4db55f53a1bd9d9e03cc44b7bae96223592619445f5c3df17e4728e3"
   }
  }
 },
 "nbformat": 4,
 "nbformat_minor": 2
}
