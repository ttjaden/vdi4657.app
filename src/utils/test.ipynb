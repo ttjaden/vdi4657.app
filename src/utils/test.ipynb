{
 "cells": [
  {
   "cell_type": "code",
   "execution_count": null,
   "metadata": {},
   "outputs": [],
   "source": [
    "import simulate as sim\n",
    "import pandas as pd\n",
    "import numpy as np\n",
    "import plotly_express as px"
   ]
  },
  {
   "cell_type": "code",
   "execution_count": null,
   "metadata": {},
   "outputs": [],
   "source": [
    "LP = pd.read_csv('../assets/data/electrical_loadprofiles/LP_G_G.csv')\n",
    "profile = LP['LP_G_G [W/MWh]'] * 446.399 / 1000"
   ]
  },
  {
   "cell_type": "code",
   "execution_count": null,
   "metadata": {},
   "outputs": [],
   "source": [
    "profile"
   ]
  },
  {
   "cell_type": "code",
   "execution_count": null,
   "metadata": {},
   "outputs": [],
   "source": [
    "df = sim.calc_bs_peakshaving(profile)"
   ]
  },
  {
   "cell_type": "code",
   "execution_count": null,
   "metadata": {},
   "outputs": [],
   "source": [
    "colorscale=[\n",
    "        [0, \"#ff0000\"],\n",
    "        [0.1, \"#ff3300\"],\n",
    "        [0.2, \"#ff6600\"],\n",
    "        [0.3, \"#ff9900\"],\n",
    "        [0.4, \"#ffcc00\"],\n",
    "        [0.5, \"#ffff00\"],\n",
    "        [0.6, \"#cdee0a\"],\n",
    "        [0.7, \"#9add14\"],\n",
    "        [0.8, \"#67cc1e\"],\n",
    "        [0.9, \"#34bb28\"],\n",
    "        [1, \"#00a933\"],]"
   ]
  },
  {
   "cell_type": "code",
   "execution_count": null,
   "metadata": {},
   "outputs": [],
   "source": [
    "colorscale=[[0, \"#ff0000\"],[0.05, \"#ff3300\"],[0.1, \"#ff6600\"],[0.15, \"#ff9900\"],[0.2, \"#ffcc00\"],[0.25, \"#ffff00\"],[0.3, \"#cdee0a\"],[0.35, \"#9add14\"],[0.4, \"#67cc1e\"],[0.45, \"#34bb28\"],[0.5, \"#00a933\"],[0.55, \"#34bb28\"],[0.6, \"#67cc1e\"],[0.65, \"#9add14\"],[0.7, \"#cdee0a\"],[0.75, \"#ffff00\"],[0.8, \"#ffcc00\"],[0.85, \"#ff9900\"],[0.9, \"#ff6600\"],[0.95, \"#ff3300\"],[1, \"#ff0000\"]]\n",
    "colorbar=dict(tickmode='array',tickvals=[0.0, 0.5, 1.0, 1.5, 2.0, 2.5, 3.0],len=1.05,ticklabeloverflow='allow',outlinewidth=0,ticks='inside')"
   ]
  },
  {
   "cell_type": "code",
   "execution_count": null,
   "metadata": {},
   "outputs": [],
   "source": [
    "fig=px.scatter(data_frame=df,x='P_bs_discharge_max',y='C_bs',color='E_rate',size='t_util')\n",
    "fig.update_layout(coloraxis = {'cmin':0,'cmax':3.0,'colorscale':colorscale,'colorbar':colorbar,'autocolorscale':False},)\n",
    "fig"
   ]
  },
  {
   "cell_type": "code",
   "execution_count": null,
   "metadata": {},
   "outputs": [],
   "source": []
  }
 ],
 "metadata": {
  "kernelspec": {
   "display_name": "webtool",
   "language": "python",
   "name": "python3"
  },
  "language_info": {
   "codemirror_mode": {
    "name": "ipython",
    "version": 3
   },
   "file_extension": ".py",
   "mimetype": "text/x-python",
   "name": "python",
   "nbconvert_exporter": "python",
   "pygments_lexer": "ipython3",
   "version": "3.9.12"
  },
  "orig_nbformat": 4,
  "vscode": {
   "interpreter": {
    "hash": "e520d04d4632711be843bf0db2d822013395c816ee5fe0ee7f47f8d20bb65b44"
   }
  }
 },
 "nbformat": 4,
 "nbformat_minor": 2
}
